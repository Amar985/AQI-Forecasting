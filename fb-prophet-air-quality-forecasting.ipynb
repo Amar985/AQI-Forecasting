{
 "cells": [
  {
   "cell_type": "code",
   "execution_count": 1,
   "metadata": {
    "_cell_guid": "79c7e3d0-c299-4dcb-8224-4455121ee9b0",
    "_uuid": "d629ff2d2480ee46fbb7e2d37f6b5fab8052498a",
    "execution": {
     "iopub.execute_input": "2020-11-29T10:54:59.644197Z",
     "iopub.status.busy": "2020-11-29T10:54:59.643372Z",
     "iopub.status.idle": "2020-11-29T10:55:01.844954Z",
     "shell.execute_reply": "2020-11-29T10:55:01.843997Z"
    },
    "papermill": {
     "duration": 2.22357,
     "end_time": "2020-11-29T10:55:01.845102",
     "exception": false,
     "start_time": "2020-11-29T10:54:59.621532",
     "status": "completed"
    },
    "tags": []
   },
   "outputs": [],
   "source": [
    "# Importing required libraries \n",
    "import numpy as np \n",
    "import pandas as pd\n",
    "import matplotlib.pyplot as plt\n",
    "import seaborn as sns\n",
    "import plotly.express as px\n",
    "\n",
    "%matplotlib inline\n",
    "\n",
    "import warnings\n",
    "warnings.filterwarnings('ignore')\n"
   ]
  },
  {
   "cell_type": "code",
   "execution_count": 2,
   "metadata": {
    "execution": {
     "iopub.execute_input": "2020-11-29T10:55:01.877863Z",
     "iopub.status.busy": "2020-11-29T10:55:01.877103Z",
     "iopub.status.idle": "2020-11-29T10:55:01.976221Z",
     "shell.execute_reply": "2020-11-29T10:55:01.975598Z"
    },
    "papermill": {
     "duration": 0.118607,
     "end_time": "2020-11-29T10:55:01.976352",
     "exception": false,
     "start_time": "2020-11-29T10:55:01.857745",
     "status": "completed"
    },
    "tags": []
   },
   "outputs": [],
   "source": [
    "#Reading the data\n",
    "df_city = pd.read_csv(\"./air-quality-dataset/city_day.csv\")"
   ]
  },
  {
   "cell_type": "code",
   "execution_count": 3,
   "metadata": {
    "execution": {
     "iopub.execute_input": "2020-11-29T10:55:02.011527Z",
     "iopub.status.busy": "2020-11-29T10:55:02.010654Z",
     "iopub.status.idle": "2020-11-29T10:55:02.070262Z",
     "shell.execute_reply": "2020-11-29T10:55:02.069543Z"
    },
    "papermill": {
     "duration": 0.082029,
     "end_time": "2020-11-29T10:55:02.070388",
     "exception": false,
     "start_time": "2020-11-29T10:55:01.988359",
     "status": "completed"
    },
    "tags": []
   },
   "outputs": [
    {
     "name": "stdout",
     "output_type": "stream",
     "text": [
      "<class 'pandas.core.frame.DataFrame'>\n",
      "RangeIndex: 29531 entries, 0 to 29530\n",
      "Data columns (total 16 columns):\n",
      " #   Column      Non-Null Count  Dtype  \n",
      "---  ------      --------------  -----  \n",
      " 0   City        29531 non-null  object \n",
      " 1   Date        29531 non-null  object \n",
      " 2   PM2.5       24933 non-null  float64\n",
      " 3   PM10        18391 non-null  float64\n",
      " 4   NO          25949 non-null  float64\n",
      " 5   NO2         25946 non-null  float64\n",
      " 6   NOx         25346 non-null  float64\n",
      " 7   NH3         19203 non-null  float64\n",
      " 8   CO          27472 non-null  float64\n",
      " 9   SO2         25677 non-null  float64\n",
      " 10  O3          25509 non-null  float64\n",
      " 11  Benzene     23908 non-null  float64\n",
      " 12  Toluene     21490 non-null  float64\n",
      " 13  Xylene      11422 non-null  float64\n",
      " 14  AQI         24850 non-null  float64\n",
      " 15  AQI_Bucket  24850 non-null  object \n",
      "dtypes: float64(13), object(3)\n",
      "memory usage: 3.6+ MB\n",
      "None\n"
     ]
    },
    {
     "data": {
      "text/html": [
       "<div>\n",
       "<style scoped>\n",
       "    .dataframe tbody tr th:only-of-type {\n",
       "        vertical-align: middle;\n",
       "    }\n",
       "\n",
       "    .dataframe tbody tr th {\n",
       "        vertical-align: top;\n",
       "    }\n",
       "\n",
       "    .dataframe thead th {\n",
       "        text-align: right;\n",
       "    }\n",
       "</style>\n",
       "<table border=\"1\" class=\"dataframe\">\n",
       "  <thead>\n",
       "    <tr style=\"text-align: right;\">\n",
       "      <th></th>\n",
       "      <th>City</th>\n",
       "      <th>Date</th>\n",
       "      <th>PM2.5</th>\n",
       "      <th>PM10</th>\n",
       "      <th>NO</th>\n",
       "      <th>NO2</th>\n",
       "      <th>NOx</th>\n",
       "      <th>NH3</th>\n",
       "      <th>CO</th>\n",
       "      <th>SO2</th>\n",
       "      <th>O3</th>\n",
       "      <th>Benzene</th>\n",
       "      <th>Toluene</th>\n",
       "      <th>Xylene</th>\n",
       "      <th>AQI</th>\n",
       "      <th>AQI_Bucket</th>\n",
       "    </tr>\n",
       "  </thead>\n",
       "  <tbody>\n",
       "    <tr>\n",
       "      <th>0</th>\n",
       "      <td>Ahmedabad</td>\n",
       "      <td>2015-01-01</td>\n",
       "      <td>NaN</td>\n",
       "      <td>NaN</td>\n",
       "      <td>0.92</td>\n",
       "      <td>18.22</td>\n",
       "      <td>17.15</td>\n",
       "      <td>NaN</td>\n",
       "      <td>0.92</td>\n",
       "      <td>27.64</td>\n",
       "      <td>133.36</td>\n",
       "      <td>0.00</td>\n",
       "      <td>0.02</td>\n",
       "      <td>0.00</td>\n",
       "      <td>NaN</td>\n",
       "      <td>NaN</td>\n",
       "    </tr>\n",
       "    <tr>\n",
       "      <th>1</th>\n",
       "      <td>Ahmedabad</td>\n",
       "      <td>2015-01-02</td>\n",
       "      <td>NaN</td>\n",
       "      <td>NaN</td>\n",
       "      <td>0.97</td>\n",
       "      <td>15.69</td>\n",
       "      <td>16.46</td>\n",
       "      <td>NaN</td>\n",
       "      <td>0.97</td>\n",
       "      <td>24.55</td>\n",
       "      <td>34.06</td>\n",
       "      <td>3.68</td>\n",
       "      <td>5.50</td>\n",
       "      <td>3.77</td>\n",
       "      <td>NaN</td>\n",
       "      <td>NaN</td>\n",
       "    </tr>\n",
       "    <tr>\n",
       "      <th>2</th>\n",
       "      <td>Ahmedabad</td>\n",
       "      <td>2015-01-03</td>\n",
       "      <td>NaN</td>\n",
       "      <td>NaN</td>\n",
       "      <td>17.40</td>\n",
       "      <td>19.30</td>\n",
       "      <td>29.70</td>\n",
       "      <td>NaN</td>\n",
       "      <td>17.40</td>\n",
       "      <td>29.07</td>\n",
       "      <td>30.70</td>\n",
       "      <td>6.80</td>\n",
       "      <td>16.40</td>\n",
       "      <td>2.25</td>\n",
       "      <td>NaN</td>\n",
       "      <td>NaN</td>\n",
       "    </tr>\n",
       "    <tr>\n",
       "      <th>3</th>\n",
       "      <td>Ahmedabad</td>\n",
       "      <td>2015-01-04</td>\n",
       "      <td>NaN</td>\n",
       "      <td>NaN</td>\n",
       "      <td>1.70</td>\n",
       "      <td>18.48</td>\n",
       "      <td>17.97</td>\n",
       "      <td>NaN</td>\n",
       "      <td>1.70</td>\n",
       "      <td>18.59</td>\n",
       "      <td>36.08</td>\n",
       "      <td>4.43</td>\n",
       "      <td>10.14</td>\n",
       "      <td>1.00</td>\n",
       "      <td>NaN</td>\n",
       "      <td>NaN</td>\n",
       "    </tr>\n",
       "    <tr>\n",
       "      <th>4</th>\n",
       "      <td>Ahmedabad</td>\n",
       "      <td>2015-01-05</td>\n",
       "      <td>NaN</td>\n",
       "      <td>NaN</td>\n",
       "      <td>22.10</td>\n",
       "      <td>21.42</td>\n",
       "      <td>37.76</td>\n",
       "      <td>NaN</td>\n",
       "      <td>22.10</td>\n",
       "      <td>39.33</td>\n",
       "      <td>39.31</td>\n",
       "      <td>7.01</td>\n",
       "      <td>18.89</td>\n",
       "      <td>2.78</td>\n",
       "      <td>NaN</td>\n",
       "      <td>NaN</td>\n",
       "    </tr>\n",
       "  </tbody>\n",
       "</table>\n",
       "</div>"
      ],
      "text/plain": [
       "        City        Date  PM2.5  PM10     NO    NO2    NOx  NH3     CO    SO2  \\\n",
       "0  Ahmedabad  2015-01-01    NaN   NaN   0.92  18.22  17.15  NaN   0.92  27.64   \n",
       "1  Ahmedabad  2015-01-02    NaN   NaN   0.97  15.69  16.46  NaN   0.97  24.55   \n",
       "2  Ahmedabad  2015-01-03    NaN   NaN  17.40  19.30  29.70  NaN  17.40  29.07   \n",
       "3  Ahmedabad  2015-01-04    NaN   NaN   1.70  18.48  17.97  NaN   1.70  18.59   \n",
       "4  Ahmedabad  2015-01-05    NaN   NaN  22.10  21.42  37.76  NaN  22.10  39.33   \n",
       "\n",
       "       O3  Benzene  Toluene  Xylene  AQI AQI_Bucket  \n",
       "0  133.36     0.00     0.02    0.00  NaN        NaN  \n",
       "1   34.06     3.68     5.50    3.77  NaN        NaN  \n",
       "2   30.70     6.80    16.40    2.25  NaN        NaN  \n",
       "3   36.08     4.43    10.14    1.00  NaN        NaN  \n",
       "4   39.31     7.01    18.89    2.78  NaN        NaN  "
      ]
     },
     "execution_count": 3,
     "metadata": {},
     "output_type": "execute_result"
    }
   ],
   "source": [
    "print(df_city.info())\n",
    "df_city.head()"
   ]
  },
  {
   "cell_type": "markdown",
   "metadata": {
    "papermill": {
     "duration": 0.012506,
     "end_time": "2020-11-29T10:55:02.096198",
     "exception": false,
     "start_time": "2020-11-29T10:55:02.083692",
     "status": "completed"
    },
    "tags": []
   },
   "source": [
    "# Filling in Missing Data"
   ]
  },
  {
   "cell_type": "code",
   "execution_count": 4,
   "metadata": {
    "execution": {
     "iopub.execute_input": "2020-11-29T10:55:02.128337Z",
     "iopub.status.busy": "2020-11-29T10:55:02.127605Z",
     "iopub.status.idle": "2020-11-29T10:55:02.420355Z",
     "shell.execute_reply": "2020-11-29T10:55:02.420924Z"
    },
    "papermill": {
     "duration": 0.311399,
     "end_time": "2020-11-29T10:55:02.421099",
     "exception": false,
     "start_time": "2020-11-29T10:55:02.109700",
     "status": "completed"
    },
    "tags": []
   },
   "outputs": [
    {
     "data": {
      "text/plain": [
       "<Axes: >"
      ]
     },
     "execution_count": 4,
     "metadata": {},
     "output_type": "execute_result"
    },
    {
     "data": {
      "image/png": "[encoded data removed]",
      "text/plain": [
       "<Figure size 640x480 with 1 Axes>"
      ]
     },
     "metadata": {},
     "output_type": "display_data"
    }
   ],
   "source": [
    "df_city.isnull().sum().plot(kind ='bar')"
   ]
  },
  {
   "cell_type": "code",
   "execution_count": 5,
   "metadata": {
    "execution": {
     "iopub.execute_input": "2020-11-29T10:55:02.459575Z",
     "iopub.status.busy": "2020-11-29T10:55:02.458761Z",
     "iopub.status.idle": "2020-11-29T10:55:02.462194Z",
     "shell.execute_reply": "2020-11-29T10:55:02.461460Z"
    },
    "papermill": {
     "duration": 0.026825,
     "end_time": "2020-11-29T10:55:02.462316",
     "exception": false,
     "start_time": "2020-11-29T10:55:02.435491",
     "status": "completed"
    },
    "tags": []
   },
   "outputs": [],
   "source": [
    "df_city['AQI'].fillna(method = 'ffill',inplace = True)\n",
    "#df_city['AQI'].fillna(method = 'bfill',inplace = True)\n",
    "#df_city['AQI'].fillna(value = 0,inplace = True)"
   ]
  },
  {
   "cell_type": "markdown",
   "metadata": {
    "papermill": {
     "duration": 0.014175,
     "end_time": "2020-11-29T10:55:02.491148",
     "exception": false,
     "start_time": "2020-11-29T10:55:02.476973",
     "status": "completed"
    },
    "tags": []
   },
   "source": [
    "# FBProphet for forecasting"
   ]
  },
  {
   "cell_type": "code",
   "execution_count": 6,
   "metadata": {
    "execution": {
     "iopub.execute_input": "2020-11-29T10:55:02.528344Z",
     "iopub.status.busy": "2020-11-29T10:55:02.527518Z",
     "iopub.status.idle": "2020-11-29T10:55:02.812636Z",
     "shell.execute_reply": "2020-11-29T10:55:02.811977Z"
    },
    "papermill": {
     "duration": 0.307126,
     "end_time": "2020-11-29T10:55:02.812772",
     "exception": false,
     "start_time": "2020-11-29T10:55:02.505646",
     "status": "completed"
    },
    "tags": []
   },
   "outputs": [
    {
     "ename": "ModuleNotFoundError",
     "evalue": "No module named 'fbprophet'",
     "output_type": "error",
     "traceback": [
      "\u001b[1;31m---------------------------------------------------------------------------\u001b[0m",
      "\u001b[1;31mModuleNotFoundError\u001b[0m                       Traceback (most recent call last)",
      "Cell \u001b[1;32mIn[6], line 1\u001b[0m\n\u001b[1;32m----> 1\u001b[0m \u001b[38;5;28;01mfrom\u001b[39;00m \u001b[38;5;21;01mfbprophet\u001b[39;00m \u001b[38;5;28;01mimport\u001b[39;00m Prophet \n\u001b[0;32m      3\u001b[0m delhi_aqi \u001b[38;5;241m=\u001b[39m delhi[[\u001b[38;5;124m'\u001b[39m\u001b[38;5;124mDate\u001b[39m\u001b[38;5;124m'\u001b[39m,\u001b[38;5;124m'\u001b[39m\u001b[38;5;124mAQI\u001b[39m\u001b[38;5;124m'\u001b[39m]]\n\u001b[0;32m      4\u001b[0m delhi_aqi\u001b[38;5;241m.\u001b[39mreset_index(inplace \u001b[38;5;241m=\u001b[39m \u001b[38;5;28;01mTrue\u001b[39;00m,drop \u001b[38;5;241m=\u001b[39m \u001b[38;5;28;01mTrue\u001b[39;00m)\n",
      "\u001b[1;31mModuleNotFoundError\u001b[0m: No module named 'fbprophet'"
     ]
    }
   ],
   "source": [
    "from fbprophet import Prophet \n",
    "\n",
    "delhi_aqi = delhi[['Date','AQI']]\n",
    "delhi_aqi.reset_index(inplace = True,drop = True)\n",
    "\n",
    "#Defining our training dataset\n",
    "train_df = delhi_aqi\n",
    "train_df.rename(mapper = {'Date':'ds','AQI':'y'},axis =1,inplace = True)\n",
    "train_df"
   ]
  },
  {
   "cell_type": "code",
   "execution_count": null,
   "metadata": {
    "execution": {
     "iopub.execute_input": "2020-11-29T10:55:02.851143Z",
     "iopub.status.busy": "2020-11-29T10:55:02.850309Z",
     "iopub.status.idle": "2020-11-29T10:55:04.308678Z",
     "shell.execute_reply": "2020-11-29T10:55:04.307883Z"
    },
    "papermill": {
     "duration": 1.47911,
     "end_time": "2020-11-29T10:55:04.308806",
     "exception": false,
     "start_time": "2020-11-29T10:55:02.829696",
     "status": "completed"
    },
    "tags": []
   },
   "outputs": [],
   "source": [
    "#Defining the model and fitting on the training dataset\n",
    "model = Prophet(holidays_prior_scale=0,seasonality_prior_scale=365,n_changepoints= 50,)\n",
    "model.fit(train_df)"
   ]
  },
  {
   "cell_type": "code",
   "execution_count": null,
   "metadata": {
    "execution": {
     "iopub.execute_input": "2020-11-29T10:55:04.356732Z",
     "iopub.status.busy": "2020-11-29T10:55:04.355924Z",
     "iopub.status.idle": "2020-11-29T10:55:04.368807Z",
     "shell.execute_reply": "2020-11-29T10:55:04.369407Z"
    },
    "papermill": {
     "duration": 0.044917,
     "end_time": "2020-11-29T10:55:04.369594",
     "exception": false,
     "start_time": "2020-11-29T10:55:04.324677",
     "status": "completed"
    },
    "tags": []
   },
   "outputs": [],
   "source": [
    "#Extrapolating the dates into future \n",
    "future = model.make_future_dataframe(periods=365)\n",
    "future.tail()"
   ]
  },
  {
   "cell_type": "code",
   "execution_count": null,
   "metadata": {
    "execution": {
     "iopub.execute_input": "2020-11-29T10:55:04.414934Z",
     "iopub.status.busy": "2020-11-29T10:55:04.408598Z",
     "iopub.status.idle": "2020-11-29T10:55:04.425867Z",
     "shell.execute_reply": "2020-11-29T10:55:04.425139Z"
    },
    "papermill": {
     "duration": 0.039731,
     "end_time": "2020-11-29T10:55:04.425995",
     "exception": false,
     "start_time": "2020-11-29T10:55:04.386264",
     "status": "completed"
    },
    "tags": []
   },
   "outputs": [],
   "source": [
    "#Forecasting the AQI values\n",
    "forecast = model.predict(future)\n",
    "forecast[['ds', 'yhat', 'yhat_lower', 'yhat_upper']].tail()"
   ]
  },
  {
   "cell_type": "code",
   "execution_count": null,
   "metadata": {
    "execution": {
     "iopub.execute_input": "2020-11-29T10:55:04.479624Z",
     "iopub.status.busy": "2020-11-29T10:55:04.478817Z",
     "iopub.status.idle": "2020-11-29T10:55:04.490454Z",
     "shell.execute_reply": "2020-11-29T10:55:04.489809Z"
    },
    "papermill": {
     "duration": 0.045955,
     "end_time": "2020-11-29T10:55:04.490593",
     "exception": false,
     "start_time": "2020-11-29T10:55:04.444638",
     "status": "completed"
    },
    "tags": []
   },
   "outputs": [],
   "source": [
    "#Calculating the cross  validation accuracy\n",
    "\n",
    "from fbprophet.diagnostics import mape,cross_validation,performance_metrics\n",
    "df_cv = cross_validation(model, initial='1100 days', period='121 days', horizon = '365 days')\n",
    "df_p = performance_metrics(df_cv)\n",
    "print('Cross Validation accuracy:', (1 - df_p['mape'].mean())*100)"
   ]
  },
  {
   "cell_type": "code",
   "execution_count": null,
   "metadata": {
    "execution": {
     "iopub.execute_input": "2020-11-29T10:55:04.546832Z",
     "iopub.status.busy": "2020-11-29T10:55:04.545947Z",
     "iopub.status.idle": "2020-11-29T10:55:04.551492Z",
     "shell.execute_reply": "2020-11-29T10:55:04.550855Z"
    },
    "papermill": {
     "duration": 0.042721,
     "end_time": "2020-11-29T10:55:04.551616",
     "exception": false,
     "start_time": "2020-11-29T10:55:04.508895",
     "status": "completed"
    },
    "tags": []
   },
   "outputs": [],
   "source": [
    "#Plotting out the forecast\n",
    "from fbprophet.plot import plot_plotly\n",
    "\n",
    "fig = plot_plotly(model, forecast ,xlabel = 'Date',ylabel= 'AQI',figsize=(1000,750))\n",
    "fig.show()"
   ]
  },
  {
   "cell_type": "markdown",
   "metadata": {
    "papermill": {
     "duration": 0.01869,
     "end_time": "2020-11-29T10:55:04.589233",
     "exception": false,
     "start_time": "2020-11-29T10:55:04.570543",
     "status": "completed"
    },
    "tags": []
   },
   "source": [
    "The model has learnt the seasonal trend of AQI.  \n",
    "\n",
    "The model shows lower values of AQI for the year 2020. Probably considering the lower than normal AQI of the first few months of 2020 because of the quarantine. "
   ]
  }
 ],
 "metadata": {
  "kernelspec": {
   "display_name": "Python 3 (ipykernel)",
   "language": "python",
   "name": "python3"
  },
  "language_info": {
   "codemirror_mode": {
    "name": "ipython",
    "version": 3
   },
   "file_extension": ".py",
   "mimetype": "text/x-python",
   "name": "python",
   "nbconvert_exporter": "python",
   "pygments_lexer": "ipython3",
   "version": "3.11.4"
  },
  "papermill": {
   "duration": 10.179616,
   "end_time": "2020-11-29T10:55:04.716872",
   "environment_variables": {},
   "exception": null,
   "input_path": "__notebook__.ipynb",
   "output_path": "__notebook__.ipynb",
   "parameters": {},
   "start_time": "2020-11-29T10:54:54.537256",
   "version": "2.1.0"
  }
 },
 "nbformat": 4,
 "nbformat_minor": 4
}
